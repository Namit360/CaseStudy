{
  "nbformat": 4,
  "nbformat_minor": 0,
  "metadata": {
    "colab": {
      "provenance": []
    },
    "kernelspec": {
      "name": "python3",
      "display_name": "Python 3"
    },
    "language_info": {
      "name": "python"
    }
  },
  "cells": [
    {
      "cell_type": "code",
      "execution_count": 1,
      "metadata": {
        "id": "-28yhFmp4Hyk"
      },
      "outputs": [],
      "source": [
        "import numpy as np\n",
        "from sklearn import preprocessing"
      ]
    },
    {
      "cell_type": "markdown",
      "source": [
        "##Extract Data"
      ],
      "metadata": {
        "id": "afYEtmhA9HzH"
      }
    },
    {
      "cell_type": "code",
      "source": [
        "df = np.loadtxt('Audiobooks_data.csv', delimiter=',')\n",
        "unscaled_inputs_all = df[:,1:-1]\n",
        "targets_all = df[:,-1]"
      ],
      "metadata": {
        "id": "O2NwvGKD9G0u"
      },
      "execution_count": 3,
      "outputs": []
    },
    {
      "cell_type": "markdown",
      "source": [
        "##Balance the Dataset"
      ],
      "metadata": {
        "id": "6-5TXtsI-Tww"
      }
    },
    {
      "cell_type": "code",
      "source": [
        "num_one_targets = int(np.sum(targets_all))\n",
        "zero_targets_counter = 0\n",
        "indices_to_remove = []\n",
        "\n",
        "#search for entries with 0\n",
        "for i in range(targets_all.shape[0]):\n",
        "  if targets_all[i]==0:\n",
        "    zero_targets_counter += 1\n",
        "    if zero_targets_counter > num_one_targets:\n",
        "      indices_to_remove.append(i)\n",
        "\n",
        "#remove indices with 0\n",
        "unscaled_inputs_equal_priors = np.delete(unscaled_inputs_all,indices_to_remove, axis = 0)\n",
        "targets_equal_priors = np.delete(targets_all,indices_to_remove, axis = 0)"
      ],
      "metadata": {
        "id": "tW7LHu8S9_r4"
      },
      "execution_count": 4,
      "outputs": []
    },
    {
      "cell_type": "markdown",
      "source": [
        "##Standardize the Inputs"
      ],
      "metadata": {
        "id": "vNhoKvu6-Ww3"
      }
    },
    {
      "cell_type": "code",
      "source": [
        "scaled_inputs = preprocessing.scale(unscaled_inputs_equal_priors)"
      ],
      "metadata": {
        "id": "BCNcB8pn-Zvh"
      },
      "execution_count": 5,
      "outputs": []
    },
    {
      "cell_type": "markdown",
      "source": [
        "##Shuffle the Data"
      ],
      "metadata": {
        "id": "aD1ipmfk_NKR"
      }
    },
    {
      "cell_type": "code",
      "source": [
        "#shuffle the scaled data by storing in a var and using shuffle\n",
        "shuffled_indices = np.arange(scaled_inputs.shape[0])\n",
        "np.random.shuffle(shuffled_indices)\n",
        "\n",
        "# create shuffled inputs and targets w.r.t shuffled indices\n",
        "shuffled_inputs = scaled_inputs[shuffled_indices]\n",
        "shuffled_targets = targets_equal_priors[shuffled_indices]"
      ],
      "metadata": {
        "id": "QLsUSGJB_O7N"
      },
      "execution_count": 7,
      "outputs": []
    },
    {
      "cell_type": "markdown",
      "source": [
        "##Split Dataset into Train, Test and Validation"
      ],
      "metadata": {
        "id": "ys077qZjAlkS"
      }
    },
    {
      "cell_type": "code",
      "source": [
        "#count total no of samples\n",
        "samples_count = shuffled_inputs.shape[0]\n",
        "\n",
        "#sizes of train ,validation and test data\n",
        "train_samples_count = int(0.8*samples_count)\n",
        "validation_samples_count = int(0.1*samples_count)\n",
        "test_samples_count = samples_count - train_samples_count - validation_samples_count\n",
        "\n",
        "#extract train ,validation and test data from large dataset\n",
        "train_inputs = shuffled_inputs[:train_samples_count]\n",
        "train_targets = shuffled_targets[:train_samples_count]\n",
        "\n",
        "validation_inputs = shuffled_inputs[train_samples_count : train_samples_count + validation_samples_count]\n",
        "validation_targets = shuffled_targets[train_samples_count : train_samples_count + validation_samples_count]\n",
        "\n",
        "test_inputs = shuffled_inputs[train_samples_count + validation_samples_count : ]\n",
        "test_targets = shuffled_targets[train_samples_count + validation_samples_count : ]"
      ],
      "metadata": {
        "id": "I5mHw1eEAs4u"
      },
      "execution_count": 8,
      "outputs": []
    },
    {
      "cell_type": "markdown",
      "source": [
        "##Save the datasets into *.npz"
      ],
      "metadata": {
        "id": "sY4sNrQCAtpc"
      }
    },
    {
      "cell_type": "code",
      "source": [
        "np.savez('Audiobook_data_train',inputs = train_inputs, targets = train_targets)\n",
        "np.savez('Audiobook_data_validation',inputs = validation_inputs, targets = validation_targets)\n",
        "np.savez('Audiobook_data_test',inputs = test_inputs, targets = test_targets)"
      ],
      "metadata": {
        "id": "c1idqmYVA0MH"
      },
      "execution_count": 9,
      "outputs": []
    }
  ]
}