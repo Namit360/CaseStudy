{
  "nbformat": 4,
  "nbformat_minor": 0,
  "metadata": {
    "colab": {
      "provenance": [],
      "collapsed_sections": [
        "8rbvbxUJMRIq"
      ]
    },
    "kernelspec": {
      "name": "python3",
      "display_name": "Python 3"
    },
    "language_info": {
      "name": "python"
    }
  },
  "cells": [
    {
      "cell_type": "code",
      "execution_count": null,
      "metadata": {
        "id": "gAp_I3WKHKYl"
      },
      "outputs": [],
      "source": [
        "import numpy as np\n",
        "import tensorflow as tf"
      ]
    },
    {
      "cell_type": "markdown",
      "source": [
        "##Data"
      ],
      "metadata": {
        "id": "ouQ6hr6VH23d"
      }
    },
    {
      "cell_type": "code",
      "source": [
        "npz = np.load('Audiobook_data_train.npz')\n",
        "# int64 and float64 because int and float is depreciated\n",
        "train_inputs = npz['inputs'].astype(np.float64)\n",
        "train_targets = npz['targets'].astype(np.int64)\n",
        "\n",
        "npz = np.load('Audiobook_data_validation.npz')\n",
        "validation_inputs, validation_targets = npz['inputs'].astype(np.float64), npz['targets'].astype(np.int64)\n",
        "\n",
        "npz = np.load('Audiobook_data_test.npz')\n",
        "test_inputs, test_targets = npz['inputs'].astype(np.float64), npz['targets'].astype(np.int64)"
      ],
      "metadata": {
        "id": "R96_A-12HxaN"
      },
      "execution_count": 14,
      "outputs": []
    },
    {
      "cell_type": "markdown",
      "source": [
        "##Model"
      ],
      "metadata": {
        "id": "8rbvbxUJMRIq"
      }
    },
    {
      "cell_type": "code",
      "source": [
        "#outlining model\n",
        "\n",
        "input_size=784\n",
        "output_size=2\n",
        "hidden_layer_size = 50\n",
        "\n",
        "model = tf.keras.Sequential([\n",
        "                              tf.keras.layers.Dense(hidden_layer_size, activation='relu'),\n",
        "                              tf.keras.layers.Dense(hidden_layer_size, activation='relu'),\n",
        "                              tf.keras.layers.Dense(output_size, activation='softmax')\n",
        "                            ])"
      ],
      "metadata": {
        "id": "NMkopYefLIyj"
      },
      "execution_count": 16,
      "outputs": []
    },
    {
      "cell_type": "code",
      "source": [
        "#optimizer and loss function\n",
        "\n",
        "model.compile(optimizer='adam', loss='sparse_categorical_crossentropy',metrics=['accuracy'])"
      ],
      "metadata": {
        "id": "PZNFTPLRNUW6"
      },
      "execution_count": 17,
      "outputs": []
    },
    {
      "cell_type": "code",
      "source": [
        "BATCH_SIZE = 100\n",
        "NUM_EPOCHS = 100\n",
        "\n",
        "#Early stopping mechanism\n",
        "early_stopping = tf.keras.callbacks.EarlyStopping(patience=2)\n",
        "\n",
        "model.fit(train_inputs,\n",
        "          train_targets,\n",
        "          batch_size= BATCH_SIZE,\n",
        "          epochs= NUM_EPOCHS,\n",
        "          callbacks = [early_stopping],\n",
        "          validation_data=(validation_inputs,validation_targets),\n",
        "          verbose =2)"
      ],
      "metadata": {
        "colab": {
          "base_uri": "https://localhost:8080/"
        },
        "id": "EJS3Ka-INjop",
        "outputId": "7d8bff74-a264-473e-8995-a4b6550db9db"
      },
      "execution_count": 20,
      "outputs": [
        {
          "output_type": "stream",
          "name": "stdout",
          "text": [
            "Epoch 1/100\n",
            "36/36 - 0s - loss: 0.3009 - accuracy: 0.8312 - val_loss: 0.3447 - val_accuracy: 0.8031 - 145ms/epoch - 4ms/step\n",
            "Epoch 2/100\n",
            "36/36 - 0s - loss: 0.3040 - accuracy: 0.8304 - val_loss: 0.3431 - val_accuracy: 0.8121 - 96ms/epoch - 3ms/step\n",
            "Epoch 3/100\n",
            "36/36 - 0s - loss: 0.3021 - accuracy: 0.8321 - val_loss: 0.3430 - val_accuracy: 0.8233 - 83ms/epoch - 2ms/step\n",
            "Epoch 4/100\n",
            "36/36 - 0s - loss: 0.3005 - accuracy: 0.8382 - val_loss: 0.3278 - val_accuracy: 0.8300 - 95ms/epoch - 3ms/step\n",
            "Epoch 5/100\n",
            "36/36 - 0s - loss: 0.3025 - accuracy: 0.8310 - val_loss: 0.3512 - val_accuracy: 0.8076 - 101ms/epoch - 3ms/step\n",
            "Epoch 6/100\n",
            "36/36 - 0s - loss: 0.3064 - accuracy: 0.8284 - val_loss: 0.3393 - val_accuracy: 0.8210 - 82ms/epoch - 2ms/step\n"
          ]
        },
        {
          "output_type": "execute_result",
          "data": {
            "text/plain": [
              "<keras.src.callbacks.History at 0x7d04821852a0>"
            ]
          },
          "metadata": {},
          "execution_count": 20
        }
      ]
    },
    {
      "cell_type": "markdown",
      "source": [
        "##Test the Model"
      ],
      "metadata": {
        "id": "c-OT5a3gP8TM"
      }
    },
    {
      "cell_type": "code",
      "source": [
        "test_loss, test_accuracy = model.evaluate(test_inputs, test_targets)"
      ],
      "metadata": {
        "colab": {
          "base_uri": "https://localhost:8080/"
        },
        "id": "N5xMEOdjP-zj",
        "outputId": "bc2690e2-0cc6-4480-8eb3-3da40fba50b9"
      },
      "execution_count": 21,
      "outputs": [
        {
          "output_type": "stream",
          "name": "stdout",
          "text": [
            "14/14 [==============================] - 0s 2ms/step - loss: 0.3481 - accuracy: 0.8125\n"
          ]
        }
      ]
    },
    {
      "cell_type": "code",
      "source": [
        "print('Test Loss: {0:.2f}. Test Accuracy: {1:.2f}%'.format(test_loss, test_accuracy*100.))"
      ],
      "metadata": {
        "colab": {
          "base_uri": "https://localhost:8080/"
        },
        "id": "2vIKWNv2QQMF",
        "outputId": "9ce52fb1-c9c9-46cf-c31d-439137dc6bb1"
      },
      "execution_count": 22,
      "outputs": [
        {
          "output_type": "stream",
          "name": "stdout",
          "text": [
            "Test Loss: 0.35. Test Accuracy: 81.25%\n"
          ]
        }
      ]
    },
    {
      "cell_type": "code",
      "source": [],
      "metadata": {
        "id": "CirMojLSQWxK"
      },
      "execution_count": null,
      "outputs": []
    }
  ]
}